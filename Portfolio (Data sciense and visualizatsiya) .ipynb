{
 "cells": [
  {
   "cell_type": "code",
   "execution_count": 1,
   "id": "eea2a962",
   "metadata": {},
   "outputs": [
    {
     "data": {
      "text/html": [
       "<div>\n",
       "<style scoped>\n",
       "    .dataframe tbody tr th:only-of-type {\n",
       "        vertical-align: middle;\n",
       "    }\n",
       "\n",
       "    .dataframe tbody tr th {\n",
       "        vertical-align: top;\n",
       "    }\n",
       "\n",
       "    .dataframe thead th {\n",
       "        text-align: right;\n",
       "    }\n",
       "</style>\n",
       "<table border=\"1\" class=\"dataframe\">\n",
       "  <thead>\n",
       "    <tr style=\"text-align: right;\">\n",
       "      <th></th>\n",
       "      <th>location</th>\n",
       "      <th>district</th>\n",
       "      <th>rooms</th>\n",
       "      <th>size</th>\n",
       "      <th>level</th>\n",
       "      <th>max_levels</th>\n",
       "      <th>price</th>\n",
       "    </tr>\n",
       "  </thead>\n",
       "  <tbody>\n",
       "    <tr>\n",
       "      <th>0</th>\n",
       "      <td>город Ташкент, Юнусабадский район, Юнусабад 8-...</td>\n",
       "      <td>Юнусабадский</td>\n",
       "      <td>3</td>\n",
       "      <td>57</td>\n",
       "      <td>4</td>\n",
       "      <td>4</td>\n",
       "      <td>52000</td>\n",
       "    </tr>\n",
       "    <tr>\n",
       "      <th>1</th>\n",
       "      <td>город Ташкент, Яккасарайский район, 1-й тупик ...</td>\n",
       "      <td>Яккасарайский</td>\n",
       "      <td>2</td>\n",
       "      <td>52</td>\n",
       "      <td>4</td>\n",
       "      <td>5</td>\n",
       "      <td>56000</td>\n",
       "    </tr>\n",
       "    <tr>\n",
       "      <th>2</th>\n",
       "      <td>город Ташкент, Чиланзарский район, Чиланзар 2-...</td>\n",
       "      <td>Чиланзарский</td>\n",
       "      <td>2</td>\n",
       "      <td>42</td>\n",
       "      <td>4</td>\n",
       "      <td>4</td>\n",
       "      <td>37000</td>\n",
       "    </tr>\n",
       "    <tr>\n",
       "      <th>3</th>\n",
       "      <td>город Ташкент, Чиланзарский район, Чиланзар 9-...</td>\n",
       "      <td>Чиланзарский</td>\n",
       "      <td>3</td>\n",
       "      <td>65</td>\n",
       "      <td>1</td>\n",
       "      <td>4</td>\n",
       "      <td>49500</td>\n",
       "    </tr>\n",
       "    <tr>\n",
       "      <th>4</th>\n",
       "      <td>город Ташкент, Чиланзарский район, площадь Актепа</td>\n",
       "      <td>Чиланзарский</td>\n",
       "      <td>3</td>\n",
       "      <td>70</td>\n",
       "      <td>3</td>\n",
       "      <td>5</td>\n",
       "      <td>55000</td>\n",
       "    </tr>\n",
       "  </tbody>\n",
       "</table>\n",
       "</div>"
      ],
      "text/plain": [
       "                                            location       district  rooms  \\\n",
       "0  город Ташкент, Юнусабадский район, Юнусабад 8-...   Юнусабадский      3   \n",
       "1  город Ташкент, Яккасарайский район, 1-й тупик ...  Яккасарайский      2   \n",
       "2  город Ташкент, Чиланзарский район, Чиланзар 2-...   Чиланзарский      2   \n",
       "3  город Ташкент, Чиланзарский район, Чиланзар 9-...   Чиланзарский      3   \n",
       "4  город Ташкент, Чиланзарский район, площадь Актепа   Чиланзарский      3   \n",
       "\n",
       "  size  level  max_levels  price  \n",
       "0   57      4           4  52000  \n",
       "1   52      4           5  56000  \n",
       "2   42      4           4  37000  \n",
       "3   65      1           4  49500  \n",
       "4   70      3           5  55000  "
      ]
     },
     "execution_count": 1,
     "metadata": {},
     "output_type": "execute_result"
    }
   ],
   "source": [
    "import pandas as pd\n",
    "df = pd.read_csv('https://raw.githubusercontent.com/anvarnarz/praktikum_datasets/main/housing_data_08-02-2021.csv')\n",
    "df.head()"
   ]
  },
  {
   "cell_type": "code",
   "execution_count": 2,
   "id": "c7449761",
   "metadata": {},
   "outputs": [
    {
     "name": "stdout",
     "output_type": "stream",
     "text": [
      "<class 'pandas.core.frame.DataFrame'>\n",
      "RangeIndex: 7565 entries, 0 to 7564\n",
      "Data columns (total 7 columns):\n",
      " #   Column      Non-Null Count  Dtype \n",
      "---  ------      --------------  ----- \n",
      " 0   location    7565 non-null   object\n",
      " 1   district    7565 non-null   object\n",
      " 2   rooms       7565 non-null   int64 \n",
      " 3   size        7565 non-null   object\n",
      " 4   level       7565 non-null   int64 \n",
      " 5   max_levels  7565 non-null   int64 \n",
      " 6   price       7565 non-null   object\n",
      "dtypes: int64(3), object(4)\n",
      "memory usage: 413.8+ KB\n"
     ]
    }
   ],
   "source": [
    "df.info()"
   ]
  },
  {
   "cell_type": "code",
   "execution_count": 3,
   "id": "b307f61b",
   "metadata": {},
   "outputs": [
    {
     "data": {
      "text/plain": [
       "(7565, 7)"
      ]
     },
     "execution_count": 3,
     "metadata": {},
     "output_type": "execute_result"
    }
   ],
   "source": [
    "df.shape"
   ]
  },
  {
   "cell_type": "code",
   "execution_count": 4,
   "id": "ce5826fe",
   "metadata": {},
   "outputs": [
    {
     "data": {
      "text/plain": [
       "город Ташкент, Чиланзарский район, Чиланзар                112\n",
       "город Ташкент, Яккасарайский район, Кушбеги                110\n",
       "город Ташкент, Мирзо-Улугбекский район, Буюк Ипак Йули      87\n",
       "город Ташкент, Яккасарайский район, Бабура                  82\n",
       "город Ташкент, Учтепинский район, Чиланзар 24-й квартал     79\n",
       "                                                          ... \n",
       "город Ташкент, Юнусабадский район, 8-й проезд Янгишахар      1\n",
       "город Ташкент, Учтепинский район, 1-й проезд Козигузар       1\n",
       "город Ташкент, Чиланзарский район, Яккабог                   1\n",
       "город Ташкент, Олмазорский район, Каракамыш2/4               1\n",
       "город Ташкент, Яшнободский район, Базар Кадышева             1\n",
       "Name: location, Length: 1600, dtype: int64"
      ]
     },
     "execution_count": 4,
     "metadata": {},
     "output_type": "execute_result"
    }
   ],
   "source": [
    "df.location.value_counts()"
   ]
  },
  {
   "cell_type": "code",
   "execution_count": 5,
   "id": "59813bc8",
   "metadata": {},
   "outputs": [
    {
     "data": {
      "text/plain": [
       "Чиланзарский         1641\n",
       "Мирзо-Улугбекский    1382\n",
       "Юнусабадский          883\n",
       "Учтепинский           880\n",
       "Мирабадский           773\n",
       "Яккасарайский         658\n",
       "Яшнободский           484\n",
       "Шайхантахурский       396\n",
       "Олмазорский           269\n",
       "Сергелийский          175\n",
       "Янгихаётский           16\n",
       "Бектемирский            8\n",
       "Name: district, dtype: int64"
      ]
     },
     "execution_count": 5,
     "metadata": {},
     "output_type": "execute_result"
    }
   ],
   "source": [
    "df.district.value_counts()"
   ]
  },
  {
   "cell_type": "code",
   "execution_count": 6,
   "id": "af01be08",
   "metadata": {
    "scrolled": true
   },
   "outputs": [
    {
     "data": {
      "text/html": [
       "<div>\n",
       "<style scoped>\n",
       "    .dataframe tbody tr th:only-of-type {\n",
       "        vertical-align: middle;\n",
       "    }\n",
       "\n",
       "    .dataframe tbody tr th {\n",
       "        vertical-align: top;\n",
       "    }\n",
       "\n",
       "    .dataframe thead th {\n",
       "        text-align: right;\n",
       "    }\n",
       "</style>\n",
       "<table border=\"1\" class=\"dataframe\">\n",
       "  <thead>\n",
       "    <tr style=\"text-align: right;\">\n",
       "      <th></th>\n",
       "      <th>rooms</th>\n",
       "      <th>level</th>\n",
       "      <th>max_levels</th>\n",
       "    </tr>\n",
       "  </thead>\n",
       "  <tbody>\n",
       "    <tr>\n",
       "      <th>count</th>\n",
       "      <td>7565.000000</td>\n",
       "      <td>7565.000000</td>\n",
       "      <td>7565.000000</td>\n",
       "    </tr>\n",
       "    <tr>\n",
       "      <th>mean</th>\n",
       "      <td>2.625644</td>\n",
       "      <td>3.699273</td>\n",
       "      <td>6.038202</td>\n",
       "    </tr>\n",
       "    <tr>\n",
       "      <th>std</th>\n",
       "      <td>1.085201</td>\n",
       "      <td>2.237275</td>\n",
       "      <td>2.613271</td>\n",
       "    </tr>\n",
       "    <tr>\n",
       "      <th>min</th>\n",
       "      <td>1.000000</td>\n",
       "      <td>1.000000</td>\n",
       "      <td>1.000000</td>\n",
       "    </tr>\n",
       "    <tr>\n",
       "      <th>25%</th>\n",
       "      <td>2.000000</td>\n",
       "      <td>2.000000</td>\n",
       "      <td>4.000000</td>\n",
       "    </tr>\n",
       "    <tr>\n",
       "      <th>50%</th>\n",
       "      <td>3.000000</td>\n",
       "      <td>3.000000</td>\n",
       "      <td>5.000000</td>\n",
       "    </tr>\n",
       "    <tr>\n",
       "      <th>75%</th>\n",
       "      <td>3.000000</td>\n",
       "      <td>5.000000</td>\n",
       "      <td>9.000000</td>\n",
       "    </tr>\n",
       "    <tr>\n",
       "      <th>max</th>\n",
       "      <td>10.000000</td>\n",
       "      <td>19.000000</td>\n",
       "      <td>25.000000</td>\n",
       "    </tr>\n",
       "  </tbody>\n",
       "</table>\n",
       "</div>"
      ],
      "text/plain": [
       "             rooms        level   max_levels\n",
       "count  7565.000000  7565.000000  7565.000000\n",
       "mean      2.625644     3.699273     6.038202\n",
       "std       1.085201     2.237275     2.613271\n",
       "min       1.000000     1.000000     1.000000\n",
       "25%       2.000000     2.000000     4.000000\n",
       "50%       3.000000     3.000000     5.000000\n",
       "75%       3.000000     5.000000     9.000000\n",
       "max      10.000000    19.000000    25.000000"
      ]
     },
     "execution_count": 6,
     "metadata": {},
     "output_type": "execute_result"
    }
   ],
   "source": [
    "df.describe()"
   ]
  },
  {
   "cell_type": "code",
   "execution_count": 7,
   "id": "843c9142",
   "metadata": {},
   "outputs": [
    {
     "data": {
      "image/png": "[encoded data removed]",
      "text/plain": [
       "<Figure size 864x432 with 4 Axes>"
      ]
     },
     "metadata": {
      "needs_background": "light"
     },
     "output_type": "display_data"
    }
   ],
   "source": [
    "%matplotlib inline \n",
    "df.hist(bins = 30 , figsize = (12,6));"
   ]
  },
  {
   "cell_type": "code",
   "execution_count": 8,
   "id": "bd725810",
   "metadata": {},
   "outputs": [
    {
     "data": {
      "text/html": [
       "<div>\n",
       "<style scoped>\n",
       "    .dataframe tbody tr th:only-of-type {\n",
       "        vertical-align: middle;\n",
       "    }\n",
       "\n",
       "    .dataframe tbody tr th {\n",
       "        vertical-align: top;\n",
       "    }\n",
       "\n",
       "    .dataframe thead th {\n",
       "        text-align: right;\n",
       "    }\n",
       "</style>\n",
       "<table border=\"1\" class=\"dataframe\">\n",
       "  <thead>\n",
       "    <tr style=\"text-align: right;\">\n",
       "      <th></th>\n",
       "      <th>location</th>\n",
       "      <th>district</th>\n",
       "      <th>rooms</th>\n",
       "      <th>size</th>\n",
       "      <th>level</th>\n",
       "      <th>max_levels</th>\n",
       "      <th>price</th>\n",
       "    </tr>\n",
       "  </thead>\n",
       "  <tbody>\n",
       "    <tr>\n",
       "      <th>0</th>\n",
       "      <td>город Ташкент, Юнусабадский район, Юнусабад 8-...</td>\n",
       "      <td>Юнусабадский</td>\n",
       "      <td>3</td>\n",
       "      <td>57</td>\n",
       "      <td>4</td>\n",
       "      <td>4</td>\n",
       "      <td>52000</td>\n",
       "    </tr>\n",
       "    <tr>\n",
       "      <th>1</th>\n",
       "      <td>город Ташкент, Яккасарайский район, 1-й тупик ...</td>\n",
       "      <td>Яккасарайский</td>\n",
       "      <td>2</td>\n",
       "      <td>52</td>\n",
       "      <td>4</td>\n",
       "      <td>5</td>\n",
       "      <td>56000</td>\n",
       "    </tr>\n",
       "    <tr>\n",
       "      <th>2</th>\n",
       "      <td>город Ташкент, Чиланзарский район, Чиланзар 2-...</td>\n",
       "      <td>Чиланзарский</td>\n",
       "      <td>2</td>\n",
       "      <td>42</td>\n",
       "      <td>4</td>\n",
       "      <td>4</td>\n",
       "      <td>37000</td>\n",
       "    </tr>\n",
       "    <tr>\n",
       "      <th>3</th>\n",
       "      <td>город Ташкент, Чиланзарский район, Чиланзар 9-...</td>\n",
       "      <td>Чиланзарский</td>\n",
       "      <td>3</td>\n",
       "      <td>65</td>\n",
       "      <td>1</td>\n",
       "      <td>4</td>\n",
       "      <td>49500</td>\n",
       "    </tr>\n",
       "    <tr>\n",
       "      <th>4</th>\n",
       "      <td>город Ташкент, Чиланзарский район, площадь Актепа</td>\n",
       "      <td>Чиланзарский</td>\n",
       "      <td>3</td>\n",
       "      <td>70</td>\n",
       "      <td>3</td>\n",
       "      <td>5</td>\n",
       "      <td>55000</td>\n",
       "    </tr>\n",
       "  </tbody>\n",
       "</table>\n",
       "</div>"
      ],
      "text/plain": [
       "                                            location       district  rooms  \\\n",
       "0  город Ташкент, Юнусабадский район, Юнусабад 8-...   Юнусабадский      3   \n",
       "1  город Ташкент, Яккасарайский район, 1-й тупик ...  Яккасарайский      2   \n",
       "2  город Ташкент, Чиланзарский район, Чиланзар 2-...   Чиланзарский      2   \n",
       "3  город Ташкент, Чиланзарский район, Чиланзар 9-...   Чиланзарский      3   \n",
       "4  город Ташкент, Чиланзарский район, площадь Актепа   Чиланзарский      3   \n",
       "\n",
       "  size  level  max_levels  price  \n",
       "0   57      4           4  52000  \n",
       "1   52      4           5  56000  \n",
       "2   42      4           4  37000  \n",
       "3   65      1           4  49500  \n",
       "4   70      3           5  55000  "
      ]
     },
     "execution_count": 8,
     "metadata": {},
     "output_type": "execute_result"
    }
   ],
   "source": [
    "df.head()"
   ]
  },
  {
   "cell_type": "code",
   "execution_count": 9,
   "id": "3ec573a4",
   "metadata": {},
   "outputs": [],
   "source": [
    "house = df.drop('location',axis=1)"
   ]
  },
  {
   "cell_type": "code",
   "execution_count": 10,
   "id": "53b5319d",
   "metadata": {},
   "outputs": [
    {
     "data": {
      "text/html": [
       "<div>\n",
       "<style scoped>\n",
       "    .dataframe tbody tr th:only-of-type {\n",
       "        vertical-align: middle;\n",
       "    }\n",
       "\n",
       "    .dataframe tbody tr th {\n",
       "        vertical-align: top;\n",
       "    }\n",
       "\n",
       "    .dataframe thead th {\n",
       "        text-align: right;\n",
       "    }\n",
       "</style>\n",
       "<table border=\"1\" class=\"dataframe\">\n",
       "  <thead>\n",
       "    <tr style=\"text-align: right;\">\n",
       "      <th></th>\n",
       "      <th>district</th>\n",
       "      <th>rooms</th>\n",
       "      <th>size</th>\n",
       "      <th>level</th>\n",
       "      <th>max_levels</th>\n",
       "      <th>price</th>\n",
       "    </tr>\n",
       "  </thead>\n",
       "  <tbody>\n",
       "    <tr>\n",
       "      <th>0</th>\n",
       "      <td>Юнусабадский</td>\n",
       "      <td>3</td>\n",
       "      <td>57</td>\n",
       "      <td>4</td>\n",
       "      <td>4</td>\n",
       "      <td>52000</td>\n",
       "    </tr>\n",
       "    <tr>\n",
       "      <th>1</th>\n",
       "      <td>Яккасарайский</td>\n",
       "      <td>2</td>\n",
       "      <td>52</td>\n",
       "      <td>4</td>\n",
       "      <td>5</td>\n",
       "      <td>56000</td>\n",
       "    </tr>\n",
       "    <tr>\n",
       "      <th>2</th>\n",
       "      <td>Чиланзарский</td>\n",
       "      <td>2</td>\n",
       "      <td>42</td>\n",
       "      <td>4</td>\n",
       "      <td>4</td>\n",
       "      <td>37000</td>\n",
       "    </tr>\n",
       "    <tr>\n",
       "      <th>3</th>\n",
       "      <td>Чиланзарский</td>\n",
       "      <td>3</td>\n",
       "      <td>65</td>\n",
       "      <td>1</td>\n",
       "      <td>4</td>\n",
       "      <td>49500</td>\n",
       "    </tr>\n",
       "    <tr>\n",
       "      <th>4</th>\n",
       "      <td>Чиланзарский</td>\n",
       "      <td>3</td>\n",
       "      <td>70</td>\n",
       "      <td>3</td>\n",
       "      <td>5</td>\n",
       "      <td>55000</td>\n",
       "    </tr>\n",
       "    <tr>\n",
       "      <th>...</th>\n",
       "      <td>...</td>\n",
       "      <td>...</td>\n",
       "      <td>...</td>\n",
       "      <td>...</td>\n",
       "      <td>...</td>\n",
       "      <td>...</td>\n",
       "    </tr>\n",
       "    <tr>\n",
       "      <th>7560</th>\n",
       "      <td>Яшнободский</td>\n",
       "      <td>1</td>\n",
       "      <td>38</td>\n",
       "      <td>5</td>\n",
       "      <td>5</td>\n",
       "      <td>24500</td>\n",
       "    </tr>\n",
       "    <tr>\n",
       "      <th>7561</th>\n",
       "      <td>Яшнободский</td>\n",
       "      <td>2</td>\n",
       "      <td>49</td>\n",
       "      <td>1</td>\n",
       "      <td>4</td>\n",
       "      <td>32000</td>\n",
       "    </tr>\n",
       "    <tr>\n",
       "      <th>7562</th>\n",
       "      <td>Шайхантахурский</td>\n",
       "      <td>2</td>\n",
       "      <td>64</td>\n",
       "      <td>3</td>\n",
       "      <td>9</td>\n",
       "      <td>40000</td>\n",
       "    </tr>\n",
       "    <tr>\n",
       "      <th>7563</th>\n",
       "      <td>Мирзо-Улугбекский</td>\n",
       "      <td>1</td>\n",
       "      <td>18</td>\n",
       "      <td>1</td>\n",
       "      <td>4</td>\n",
       "      <td>11000</td>\n",
       "    </tr>\n",
       "    <tr>\n",
       "      <th>7564</th>\n",
       "      <td>Чиланзарский</td>\n",
       "      <td>1</td>\n",
       "      <td>30</td>\n",
       "      <td>2</td>\n",
       "      <td>4</td>\n",
       "      <td>22914</td>\n",
       "    </tr>\n",
       "  </tbody>\n",
       "</table>\n",
       "<p>7565 rows × 6 columns</p>\n",
       "</div>"
      ],
      "text/plain": [
       "               district  rooms size  level  max_levels  price\n",
       "0          Юнусабадский      3   57      4           4  52000\n",
       "1         Яккасарайский      2   52      4           5  56000\n",
       "2          Чиланзарский      2   42      4           4  37000\n",
       "3          Чиланзарский      3   65      1           4  49500\n",
       "4          Чиланзарский      3   70      3           5  55000\n",
       "...                 ...    ...  ...    ...         ...    ...\n",
       "7560        Яшнободский      1   38      5           5  24500\n",
       "7561        Яшнободский      2   49      1           4  32000\n",
       "7562    Шайхантахурский      2   64      3           9  40000\n",
       "7563  Мирзо-Улугбекский      1   18      1           4  11000\n",
       "7564       Чиланзарский      1   30      2           4  22914\n",
       "\n",
       "[7565 rows x 6 columns]"
      ]
     },
     "execution_count": 10,
     "metadata": {},
     "output_type": "execute_result"
    }
   ],
   "source": [
    "house"
   ]
  },
  {
   "cell_type": "markdown",
   "id": "3d82af6b",
   "metadata": {},
   "source": [
    "## Size"
   ]
  },
  {
   "cell_type": "code",
   "execution_count": 17,
   "id": "8f2f3e93",
   "metadata": {},
   "outputs": [
    {
     "data": {
      "text/plain": [
       "district      0\n",
       "rooms         0\n",
       "size          0\n",
       "level         0\n",
       "max_levels    0\n",
       "price         0\n",
       "dtype: int64"
      ]
     },
     "execution_count": 17,
     "metadata": {},
     "output_type": "execute_result"
    }
   ],
   "source": [
    "house.isnull().sum()"
   ]
  },
  {
   "cell_type": "code",
   "execution_count": 20,
   "id": "3b713837",
   "metadata": {},
   "outputs": [],
   "source": [
    "house['size'] = house['size'].replace('Площадьземли:1сот',0) "
   ]
  },
  {
   "cell_type": "code",
   "execution_count": 21,
   "id": "bb179377",
   "metadata": {},
   "outputs": [],
   "source": [
    "median_size = house['size'].median()"
   ]
  },
  {
   "cell_type": "code",
   "execution_count": 23,
   "id": "956dd280",
   "metadata": {},
   "outputs": [],
   "source": [
    "house['size'] = house['size'].replace(0,median_size)"
   ]
  },
  {
   "cell_type": "code",
   "execution_count": 27,
   "id": "bcc6fee2",
   "metadata": {},
   "outputs": [],
   "source": [
    "house['size'] = house['size'].apply(lambda x:float(x))"
   ]
  },
  {
   "cell_type": "code",
   "execution_count": 28,
   "id": "55c91bb9",
   "metadata": {},
   "outputs": [
    {
     "name": "stdout",
     "output_type": "stream",
     "text": [
      "<class 'pandas.core.frame.DataFrame'>\n",
      "RangeIndex: 7565 entries, 0 to 7564\n",
      "Data columns (total 6 columns):\n",
      " #   Column      Non-Null Count  Dtype  \n",
      "---  ------      --------------  -----  \n",
      " 0   district    7565 non-null   object \n",
      " 1   rooms       7565 non-null   int64  \n",
      " 2   size        7565 non-null   float64\n",
      " 3   level       7565 non-null   int64  \n",
      " 4   max_levels  7565 non-null   int64  \n",
      " 5   price       7565 non-null   object \n",
      "dtypes: float64(1), int64(3), object(2)\n",
      "memory usage: 354.7+ KB\n"
     ]
    }
   ],
   "source": [
    "house.info()"
   ]
  },
  {
   "cell_type": "markdown",
   "id": "2d382738",
   "metadata": {},
   "source": [
    "## Price"
   ]
  },
  {
   "cell_type": "code",
   "execution_count": 35,
   "id": "004ffdc3",
   "metadata": {},
   "outputs": [],
   "source": [
    "house['price'] = house['price'].apply(lambda x:float(x))"
   ]
  },
  {
   "cell_type": "markdown",
   "id": "8f519455",
   "metadata": {},
   "source": [
    "#### house.info()"
   ]
  },
  {
   "cell_type": "code",
   "execution_count": 30,
   "id": "9e9deb90",
   "metadata": {},
   "outputs": [],
   "source": [
    "house['price'] = house['price'].replace('Договорная',0)"
   ]
  },
  {
   "cell_type": "code",
   "execution_count": 31,
   "id": "9cbcd133",
   "metadata": {},
   "outputs": [],
   "source": [
    "median_house = house['price'].median()"
   ]
  },
  {
   "cell_type": "code",
   "execution_count": 32,
   "id": "5f2669dd",
   "metadata": {},
   "outputs": [],
   "source": [
    "house['price'] = house['price'].replace(0,median_house)"
   ]
  },
  {
   "cell_type": "code",
   "execution_count": 38,
   "id": "17e8468a",
   "metadata": {},
   "outputs": [
    {
     "data": {
      "text/html": [
       "<div>\n",
       "<style scoped>\n",
       "    .dataframe tbody tr th:only-of-type {\n",
       "        vertical-align: middle;\n",
       "    }\n",
       "\n",
       "    .dataframe tbody tr th {\n",
       "        vertical-align: top;\n",
       "    }\n",
       "\n",
       "    .dataframe thead th {\n",
       "        text-align: right;\n",
       "    }\n",
       "</style>\n",
       "<table border=\"1\" class=\"dataframe\">\n",
       "  <thead>\n",
       "    <tr style=\"text-align: right;\">\n",
       "      <th></th>\n",
       "      <th>rooms</th>\n",
       "      <th>size</th>\n",
       "      <th>level</th>\n",
       "      <th>max_levels</th>\n",
       "      <th>price</th>\n",
       "    </tr>\n",
       "  </thead>\n",
       "  <tbody>\n",
       "    <tr>\n",
       "      <th>count</th>\n",
       "      <td>7565.000000</td>\n",
       "      <td>7565.000000</td>\n",
       "      <td>7565.000000</td>\n",
       "      <td>7565.000000</td>\n",
       "      <td>7.565000e+03</td>\n",
       "    </tr>\n",
       "    <tr>\n",
       "      <th>mean</th>\n",
       "      <td>2.625644</td>\n",
       "      <td>113.262742</td>\n",
       "      <td>3.699273</td>\n",
       "      <td>6.038202</td>\n",
       "      <td>7.100267e+04</td>\n",
       "    </tr>\n",
       "    <tr>\n",
       "      <th>std</th>\n",
       "      <td>1.085201</td>\n",
       "      <td>1491.213609</td>\n",
       "      <td>2.237275</td>\n",
       "      <td>2.613271</td>\n",
       "      <td>6.363247e+05</td>\n",
       "    </tr>\n",
       "    <tr>\n",
       "      <th>min</th>\n",
       "      <td>1.000000</td>\n",
       "      <td>1.000000</td>\n",
       "      <td>1.000000</td>\n",
       "      <td>1.000000</td>\n",
       "      <td>2.000000e+00</td>\n",
       "    </tr>\n",
       "    <tr>\n",
       "      <th>25%</th>\n",
       "      <td>2.000000</td>\n",
       "      <td>50.000000</td>\n",
       "      <td>2.000000</td>\n",
       "      <td>4.000000</td>\n",
       "      <td>3.500000e+04</td>\n",
       "    </tr>\n",
       "    <tr>\n",
       "      <th>50%</th>\n",
       "      <td>3.000000</td>\n",
       "      <td>66.000000</td>\n",
       "      <td>3.000000</td>\n",
       "      <td>5.000000</td>\n",
       "      <td>4.600000e+04</td>\n",
       "    </tr>\n",
       "    <tr>\n",
       "      <th>75%</th>\n",
       "      <td>3.000000</td>\n",
       "      <td>86.000000</td>\n",
       "      <td>5.000000</td>\n",
       "      <td>9.000000</td>\n",
       "      <td>6.600000e+04</td>\n",
       "    </tr>\n",
       "    <tr>\n",
       "      <th>max</th>\n",
       "      <td>10.000000</td>\n",
       "      <td>70000.000000</td>\n",
       "      <td>19.000000</td>\n",
       "      <td>25.000000</td>\n",
       "      <td>5.200000e+07</td>\n",
       "    </tr>\n",
       "  </tbody>\n",
       "</table>\n",
       "</div>"
      ],
      "text/plain": [
       "             rooms          size        level   max_levels         price\n",
       "count  7565.000000   7565.000000  7565.000000  7565.000000  7.565000e+03\n",
       "mean      2.625644    113.262742     3.699273     6.038202  7.100267e+04\n",
       "std       1.085201   1491.213609     2.237275     2.613271  6.363247e+05\n",
       "min       1.000000      1.000000     1.000000     1.000000  2.000000e+00\n",
       "25%       2.000000     50.000000     2.000000     4.000000  3.500000e+04\n",
       "50%       3.000000     66.000000     3.000000     5.000000  4.600000e+04\n",
       "75%       3.000000     86.000000     5.000000     9.000000  6.600000e+04\n",
       "max      10.000000  70000.000000    19.000000    25.000000  5.200000e+07"
      ]
     },
     "execution_count": 38,
     "metadata": {},
     "output_type": "execute_result"
    }
   ],
   "source": [
    "house.describe()"
   ]
  },
  {
   "cell_type": "markdown",
   "id": "b7592f04",
   "metadata": {},
   "source": [
    "# # # Agarda NAN qiymatlar bo'lsa SimpleImputer() orqali median qiymat qaytariladi!"
   ]
  },
  {
   "cell_type": "code",
   "execution_count": 39,
   "id": "3b121b2c",
   "metadata": {},
   "outputs": [
    {
     "name": "stdout",
     "output_type": "stream",
     "text": [
      "<class 'pandas.core.frame.DataFrame'>\n",
      "RangeIndex: 7565 entries, 0 to 7564\n",
      "Data columns (total 6 columns):\n",
      " #   Column      Non-Null Count  Dtype  \n",
      "---  ------      --------------  -----  \n",
      " 0   district    7565 non-null   object \n",
      " 1   rooms       7565 non-null   int64  \n",
      " 2   size        7565 non-null   float64\n",
      " 3   level       7565 non-null   int64  \n",
      " 4   max_levels  7565 non-null   int64  \n",
      " 5   price       7565 non-null   float64\n",
      "dtypes: float64(2), int64(3), object(1)\n",
      "memory usage: 354.7+ KB\n"
     ]
    }
   ],
   "source": [
    "house.info()"
   ]
  },
  {
   "cell_type": "markdown",
   "id": "b3fa6fbf",
   "metadata": {},
   "source": [
    "# # Matnli ustun bilan ishlash"
   ]
  },
  {
   "cell_type": "code",
   "execution_count": 41,
   "id": "1ac535ac",
   "metadata": {},
   "outputs": [],
   "source": [
    "from sklearn.preprocessing import OneHotEncoder\n",
    "\n",
    "one_encoder = OneHotEncoder()"
   ]
  },
  {
   "cell_type": "code",
   "execution_count": 45,
   "id": "328e57e7",
   "metadata": {},
   "outputs": [],
   "source": [
    "object_label = house[['district']].copy()"
   ]
  },
  {
   "cell_type": "code",
   "execution_count": 47,
   "id": "70b6638b",
   "metadata": {},
   "outputs": [],
   "source": [
    "object_array = one_encoder.fit_transform(object_label)"
   ]
  },
  {
   "cell_type": "code",
   "execution_count": 48,
   "id": "b82d6c19",
   "metadata": {},
   "outputs": [
    {
     "data": {
      "text/plain": [
       "array([[0., 0., 0., ..., 0., 0., 0.],\n",
       "       [0., 0., 0., ..., 1., 0., 0.],\n",
       "       [0., 0., 0., ..., 0., 0., 0.],\n",
       "       ...,\n",
       "       [0., 0., 0., ..., 0., 0., 0.],\n",
       "       [0., 0., 1., ..., 0., 0., 0.],\n",
       "       [0., 0., 0., ..., 0., 0., 0.]])"
      ]
     },
     "execution_count": 48,
     "metadata": {},
     "output_type": "execute_result"
    }
   ],
   "source": [
    "object_array.toarray()"
   ]
  },
  {
   "cell_type": "code",
   "execution_count": 49,
   "id": "2b9dbac7",
   "metadata": {},
   "outputs": [],
   "source": [
    "house_num = house.drop('district',axis=1)"
   ]
  },
  {
   "cell_type": "code",
   "execution_count": 51,
   "id": "1b729ca4",
   "metadata": {},
   "outputs": [],
   "source": [
    "from sklearn.preprocessing import StandardScaler\n",
    "scaler = StandardScaler()"
   ]
  },
  {
   "cell_type": "raw",
   "id": "a393f566",
   "metadata": {},
   "source": []
  },
  {
   "cell_type": "code",
   "execution_count": 53,
   "id": "c0c5ab6a",
   "metadata": {},
   "outputs": [
    {
     "data": {
      "text/plain": [
       "array([[ 0.34498717, -0.03773199,  0.13442554, -0.77999447, -0.02986514],\n",
       "       [-0.57656225, -0.04108519,  0.13442554, -0.397307  , -0.02357863],\n",
       "       [-0.57656225, -0.04779158,  0.13442554, -0.77999447, -0.05343957],\n",
       "       ...,\n",
       "       [-0.57656225, -0.03303752, -0.3125763 ,  1.13344291, -0.04872469],\n",
       "       [-1.49811166, -0.06388692, -1.20657998, -0.77999447, -0.09430192],\n",
       "       [-1.49811166, -0.05583925, -0.75957814, -0.77999447, -0.07557753]])"
      ]
     },
     "execution_count": 53,
     "metadata": {},
     "output_type": "execute_result"
    }
   ],
   "source": [
    "scaler.fit_transform(house_num)"
   ]
  },
  {
   "cell_type": "markdown",
   "id": "5076938d",
   "metadata": {},
   "source": [
    "# Machine Learning"
   ]
  },
  {
   "cell_type": "code",
   "execution_count": 54,
   "id": "8e975008",
   "metadata": {},
   "outputs": [
    {
     "data": {
      "text/html": [
       "<div>\n",
       "<style scoped>\n",
       "    .dataframe tbody tr th:only-of-type {\n",
       "        vertical-align: middle;\n",
       "    }\n",
       "\n",
       "    .dataframe tbody tr th {\n",
       "        vertical-align: top;\n",
       "    }\n",
       "\n",
       "    .dataframe thead th {\n",
       "        text-align: right;\n",
       "    }\n",
       "</style>\n",
       "<table border=\"1\" class=\"dataframe\">\n",
       "  <thead>\n",
       "    <tr style=\"text-align: right;\">\n",
       "      <th></th>\n",
       "      <th>location</th>\n",
       "      <th>district</th>\n",
       "      <th>rooms</th>\n",
       "      <th>size</th>\n",
       "      <th>level</th>\n",
       "      <th>max_levels</th>\n",
       "      <th>price</th>\n",
       "    </tr>\n",
       "  </thead>\n",
       "  <tbody>\n",
       "    <tr>\n",
       "      <th>0</th>\n",
       "      <td>город Ташкент, Юнусабадский район, Юнусабад 8-...</td>\n",
       "      <td>Юнусабадский</td>\n",
       "      <td>3</td>\n",
       "      <td>57</td>\n",
       "      <td>4</td>\n",
       "      <td>4</td>\n",
       "      <td>52000</td>\n",
       "    </tr>\n",
       "    <tr>\n",
       "      <th>1</th>\n",
       "      <td>город Ташкент, Яккасарайский район, 1-й тупик ...</td>\n",
       "      <td>Яккасарайский</td>\n",
       "      <td>2</td>\n",
       "      <td>52</td>\n",
       "      <td>4</td>\n",
       "      <td>5</td>\n",
       "      <td>56000</td>\n",
       "    </tr>\n",
       "    <tr>\n",
       "      <th>2</th>\n",
       "      <td>город Ташкент, Чиланзарский район, Чиланзар 2-...</td>\n",
       "      <td>Чиланзарский</td>\n",
       "      <td>2</td>\n",
       "      <td>42</td>\n",
       "      <td>4</td>\n",
       "      <td>4</td>\n",
       "      <td>37000</td>\n",
       "    </tr>\n",
       "    <tr>\n",
       "      <th>3</th>\n",
       "      <td>город Ташкент, Чиланзарский район, Чиланзар 9-...</td>\n",
       "      <td>Чиланзарский</td>\n",
       "      <td>3</td>\n",
       "      <td>65</td>\n",
       "      <td>1</td>\n",
       "      <td>4</td>\n",
       "      <td>49500</td>\n",
       "    </tr>\n",
       "    <tr>\n",
       "      <th>4</th>\n",
       "      <td>город Ташкент, Чиланзарский район, площадь Актепа</td>\n",
       "      <td>Чиланзарский</td>\n",
       "      <td>3</td>\n",
       "      <td>70</td>\n",
       "      <td>3</td>\n",
       "      <td>5</td>\n",
       "      <td>55000</td>\n",
       "    </tr>\n",
       "  </tbody>\n",
       "</table>\n",
       "</div>"
      ],
      "text/plain": [
       "                                            location       district  rooms  \\\n",
       "0  город Ташкент, Юнусабадский район, Юнусабад 8-...   Юнусабадский      3   \n",
       "1  город Ташкент, Яккасарайский район, 1-й тупик ...  Яккасарайский      2   \n",
       "2  город Ташкент, Чиланзарский район, Чиланзар 2-...   Чиланзарский      2   \n",
       "3  город Ташкент, Чиланзарский район, Чиланзар 9-...   Чиланзарский      3   \n",
       "4  город Ташкент, Чиланзарский район, площадь Актепа   Чиланзарский      3   \n",
       "\n",
       "  size  level  max_levels  price  \n",
       "0   57      4           4  52000  \n",
       "1   52      4           5  56000  \n",
       "2   42      4           4  37000  \n",
       "3   65      1           4  49500  \n",
       "4   70      3           5  55000  "
      ]
     },
     "execution_count": 54,
     "metadata": {},
     "output_type": "execute_result"
    }
   ],
   "source": [
    "df.head()"
   ]
  },
  {
   "cell_type": "code",
   "execution_count": 56,
   "id": "72ce37a9",
   "metadata": {},
   "outputs": [
    {
     "name": "stdout",
     "output_type": "stream",
     "text": [
      "<class 'pandas.core.frame.DataFrame'>\n",
      "RangeIndex: 7565 entries, 0 to 7564\n",
      "Data columns (total 6 columns):\n",
      " #   Column      Non-Null Count  Dtype  \n",
      "---  ------      --------------  -----  \n",
      " 0   district    7565 non-null   object \n",
      " 1   rooms       7565 non-null   int64  \n",
      " 2   size        7565 non-null   float64\n",
      " 3   level       7565 non-null   int64  \n",
      " 4   max_levels  7565 non-null   int64  \n",
      " 5   price       7565 non-null   float64\n",
      "dtypes: float64(2), int64(3), object(1)\n",
      "memory usage: 354.7+ KB\n"
     ]
    }
   ],
   "source": [
    "house.info()"
   ]
  },
  {
   "cell_type": "code",
   "execution_count": 58,
   "id": "8ca91b15",
   "metadata": {},
   "outputs": [],
   "source": [
    "from sklearn.impute import SimpleImputer\n",
    "from sklearn.model_selection import train_test_split\n",
    "from sklearn.preprocessing import StandardScaler , OneHotEncoder\n",
    "from sklearn.pipeline import Pipeline "
   ]
  },
  {
   "cell_type": "code",
   "execution_count": 59,
   "id": "956da3b9",
   "metadata": {},
   "outputs": [],
   "source": [
    "train_set , test_set = train_test_split(house , test_size = 0.2 , random_state = 42)"
   ]
  },
  {
   "cell_type": "code",
   "execution_count": 60,
   "id": "e5d84036",
   "metadata": {},
   "outputs": [
    {
     "data": {
      "text/plain": [
       "(6052, 6)"
      ]
     },
     "execution_count": 60,
     "metadata": {},
     "output_type": "execute_result"
    }
   ],
   "source": [
    "train_set.shape"
   ]
  },
  {
   "cell_type": "code",
   "execution_count": 61,
   "id": "950d708c",
   "metadata": {},
   "outputs": [
    {
     "data": {
      "text/plain": [
       "(1513, 6)"
      ]
     },
     "execution_count": 61,
     "metadata": {},
     "output_type": "execute_result"
    }
   ],
   "source": [
    "test_set.shape"
   ]
  },
  {
   "cell_type": "code",
   "execution_count": 62,
   "id": "da60627c",
   "metadata": {},
   "outputs": [],
   "source": [
    "x_train = train_set.drop('price',axis=1)\n",
    "y= train_set['price'].copy()\n",
    "\n",
    "x_num = x_train.drop('district',axis=1)"
   ]
  },
  {
   "cell_type": "markdown",
   "id": "68657bb6",
   "metadata": {},
   "source": [
    "## Pipeline"
   ]
  },
  {
   "cell_type": "code",
   "execution_count": 63,
   "id": "8d6ceb96",
   "metadata": {},
   "outputs": [],
   "source": [
    "num_pipeline = Pipeline([\n",
    "    ('simple',SimpleImputer(strategy = 'median')),\n",
    "    ('standard',StandardScaler())\n",
    "])"
   ]
  },
  {
   "cell_type": "code",
   "execution_count": 64,
   "id": "56127011",
   "metadata": {},
   "outputs": [
    {
     "data": {
      "text/plain": [
       "array([[-0.57746118, -0.03810144, -0.31266907, -0.78950544],\n",
       "       [ 1.25131698,  0.06793816, -0.75864437, -0.40330378],\n",
       "       [-1.49185026, -0.04831267, -0.75864437, -0.40330378],\n",
       "       ...,\n",
       "       [-0.57746118, -0.04045788, -1.20461968, -1.1757071 ],\n",
       "       [-0.57746118, -0.03181762, -0.31266907, -0.78950544],\n",
       "       [ 0.3369279 , -0.0066823 , -0.75864437,  1.14150286]])"
      ]
     },
     "execution_count": 64,
     "metadata": {},
     "output_type": "execute_result"
    }
   ],
   "source": [
    "num_pipeline.fit_transform(x_num)"
   ]
  },
  {
   "cell_type": "code",
   "execution_count": 68,
   "id": "6281eedd",
   "metadata": {},
   "outputs": [],
   "source": [
    "from sklearn.compose import ColumnTransformer\n",
    "\n",
    "num = list(x_num)\n",
    "strlar = ['district']"
   ]
  },
  {
   "cell_type": "code",
   "execution_count": 72,
   "id": "e729ed44",
   "metadata": {},
   "outputs": [],
   "source": [
    "full_pipeline = ColumnTransformer([\n",
    "    ('num',num_pipeline,num),\n",
    "    ('str',OneHotEncoder(),strlar)\n",
    "])"
   ]
  },
  {
   "cell_type": "code",
   "execution_count": 74,
   "id": "0175a180",
   "metadata": {},
   "outputs": [],
   "source": [
    "x_prepared = full_pipeline.fit_transform(x_train)"
   ]
  },
  {
   "cell_type": "code",
   "execution_count": 77,
   "id": "4be8fa73",
   "metadata": {},
   "outputs": [
    {
     "data": {
      "text/plain": [
       "4552     37000.0\n",
       "4450    210000.0\n",
       "1656     27500.0\n",
       "3570     46835.0\n",
       "6618    140000.0\n",
       "5829     51000.0\n",
       "7087     27394.0\n",
       "Name: price, dtype: float64"
      ]
     },
     "execution_count": 77,
     "metadata": {},
     "output_type": "execute_result"
    }
   ],
   "source": [
    "y[:7]"
   ]
  },
  {
   "cell_type": "markdown",
   "id": "31f08c7d",
   "metadata": {},
   "source": [
    "### LinearRegression"
   ]
  },
  {
   "cell_type": "code",
   "execution_count": 80,
   "id": "07c4ff7a",
   "metadata": {},
   "outputs": [],
   "source": [
    "from sklearn.linear_model import LinearRegression\n",
    "LR_model = LinearRegression()"
   ]
  },
  {
   "cell_type": "code",
   "execution_count": 82,
   "id": "cf1d5b10",
   "metadata": {},
   "outputs": [
    {
     "data": {
      "text/plain": [
       "LinearRegression()"
      ]
     },
     "execution_count": 82,
     "metadata": {},
     "output_type": "execute_result"
    }
   ],
   "source": [
    "LR_model.fit(x_prepared , y)"
   ]
  },
  {
   "cell_type": "markdown",
   "id": "6b268add",
   "metadata": {},
   "source": [
    "### DecisionTree"
   ]
  },
  {
   "cell_type": "code",
   "execution_count": 85,
   "id": "1da24226",
   "metadata": {},
   "outputs": [],
   "source": [
    "from sklearn.tree import DecisionTreeRegressor\n",
    "DT_model = DecisionTreeRegressor()"
   ]
  },
  {
   "cell_type": "code",
   "execution_count": 86,
   "id": "5c1ca267",
   "metadata": {},
   "outputs": [
    {
     "data": {
      "text/plain": [
       "DecisionTreeRegressor()"
      ]
     },
     "execution_count": 86,
     "metadata": {},
     "output_type": "execute_result"
    }
   ],
   "source": [
    "DT_model.fit(x_prepared , y)"
   ]
  },
  {
   "cell_type": "markdown",
   "id": "0918888d",
   "metadata": {},
   "source": [
    "### RandomForest"
   ]
  },
  {
   "cell_type": "code",
   "execution_count": 88,
   "id": "33b691f4",
   "metadata": {},
   "outputs": [],
   "source": [
    "from sklearn.ensemble import RandomForestRegressor\n",
    "RF_model = RandomForestRegressor()\n"
   ]
  },
  {
   "cell_type": "code",
   "execution_count": 89,
   "id": "2d34e7b6",
   "metadata": {},
   "outputs": [
    {
     "data": {
      "text/plain": [
       "RandomForestRegressor()"
      ]
     },
     "execution_count": 89,
     "metadata": {},
     "output_type": "execute_result"
    }
   ],
   "source": [
    "RF_model.fit(x_prepared, y)"
   ]
  },
  {
   "cell_type": "markdown",
   "id": "faacb4cf",
   "metadata": {},
   "source": [
    "## Test Model"
   ]
  },
  {
   "cell_type": "code",
   "execution_count": 94,
   "id": "f2524fab",
   "metadata": {},
   "outputs": [],
   "source": [
    "from sklearn.metrics import mean_absolute_error\n",
    "x_test = test_set.drop('price' ,axis=1)\n",
    "y_test = test_set['price'].copy()"
   ]
  },
  {
   "cell_type": "code",
   "execution_count": 92,
   "id": "bc56a128",
   "metadata": {},
   "outputs": [],
   "source": [
    "x_test_prepared = full_pipeline.fit_transform(x_test)"
   ]
  },
  {
   "cell_type": "markdown",
   "id": "6d263744",
   "metadata": {},
   "source": [
    "## 1"
   ]
  },
  {
   "cell_type": "code",
   "execution_count": 95,
   "id": "9d139514",
   "metadata": {},
   "outputs": [],
   "source": [
    "linear = LR_model.predict(x_test_prepared)"
   ]
  },
  {
   "cell_type": "code",
   "execution_count": 97,
   "id": "0751a0d9",
   "metadata": {},
   "outputs": [
    {
     "data": {
      "text/html": [
       "<div>\n",
       "<style scoped>\n",
       "    .dataframe tbody tr th:only-of-type {\n",
       "        vertical-align: middle;\n",
       "    }\n",
       "\n",
       "    .dataframe tbody tr th {\n",
       "        vertical-align: top;\n",
       "    }\n",
       "\n",
       "    .dataframe thead th {\n",
       "        text-align: right;\n",
       "    }\n",
       "</style>\n",
       "<table border=\"1\" class=\"dataframe\">\n",
       "  <thead>\n",
       "    <tr style=\"text-align: right;\">\n",
       "      <th></th>\n",
       "      <th>make:</th>\n",
       "      <th>orginal:</th>\n",
       "    </tr>\n",
       "  </thead>\n",
       "  <tbody>\n",
       "    <tr>\n",
       "      <th>132</th>\n",
       "      <td>45321.521056</td>\n",
       "      <td>41000.0</td>\n",
       "    </tr>\n",
       "    <tr>\n",
       "      <th>3771</th>\n",
       "      <td>-27635.490388</td>\n",
       "      <td>21000.0</td>\n",
       "    </tr>\n",
       "    <tr>\n",
       "      <th>65</th>\n",
       "      <td>158692.034640</td>\n",
       "      <td>91000.0</td>\n",
       "    </tr>\n",
       "    <tr>\n",
       "      <th>7525</th>\n",
       "      <td>156955.734559</td>\n",
       "      <td>95000.0</td>\n",
       "    </tr>\n",
       "    <tr>\n",
       "      <th>6791</th>\n",
       "      <td>131024.154384</td>\n",
       "      <td>88000.0</td>\n",
       "    </tr>\n",
       "    <tr>\n",
       "      <th>...</th>\n",
       "      <td>...</td>\n",
       "      <td>...</td>\n",
       "    </tr>\n",
       "    <tr>\n",
       "      <th>4834</th>\n",
       "      <td>42622.640695</td>\n",
       "      <td>36000.0</td>\n",
       "    </tr>\n",
       "    <tr>\n",
       "      <th>3125</th>\n",
       "      <td>100314.579396</td>\n",
       "      <td>130000.0</td>\n",
       "    </tr>\n",
       "    <tr>\n",
       "      <th>347</th>\n",
       "      <td>32446.850535</td>\n",
       "      <td>26500.0</td>\n",
       "    </tr>\n",
       "    <tr>\n",
       "      <th>6678</th>\n",
       "      <td>56901.410251</td>\n",
       "      <td>43000.0</td>\n",
       "    </tr>\n",
       "    <tr>\n",
       "      <th>333</th>\n",
       "      <td>59623.830489</td>\n",
       "      <td>40000.0</td>\n",
       "    </tr>\n",
       "  </tbody>\n",
       "</table>\n",
       "<p>1513 rows × 2 columns</p>\n",
       "</div>"
      ],
      "text/plain": [
       "              make:  orginal:\n",
       "132    45321.521056   41000.0\n",
       "3771  -27635.490388   21000.0\n",
       "65    158692.034640   91000.0\n",
       "7525  156955.734559   95000.0\n",
       "6791  131024.154384   88000.0\n",
       "...             ...       ...\n",
       "4834   42622.640695   36000.0\n",
       "3125  100314.579396  130000.0\n",
       "347    32446.850535   26500.0\n",
       "6678   56901.410251   43000.0\n",
       "333    59623.830489   40000.0\n",
       "\n",
       "[1513 rows x 2 columns]"
      ]
     },
     "execution_count": 97,
     "metadata": {},
     "output_type": "execute_result"
    }
   ],
   "source": [
    "pd.DataFrame({\"make:\":linear,\"orginal:\":y_test})"
   ]
  },
  {
   "cell_type": "code",
   "execution_count": 101,
   "id": "ab23ac53",
   "metadata": {},
   "outputs": [
    {
     "data": {
      "text/plain": [
       "199.4247205293706"
      ]
     },
     "execution_count": 101,
     "metadata": {},
     "output_type": "execute_result"
    }
   ],
   "source": [
    "a = mean_absolute_error(y_test,linear)\n",
    "linear_error = np.sqrt(a)\n",
    "linear_error"
   ]
  },
  {
   "cell_type": "markdown",
   "id": "a312ae9c",
   "metadata": {},
   "source": [
    "## 2"
   ]
  },
  {
   "cell_type": "code",
   "execution_count": 105,
   "id": "87d96f07",
   "metadata": {},
   "outputs": [],
   "source": [
    "tree = DT_model.predict(x_test_prepared)"
   ]
  },
  {
   "cell_type": "code",
   "execution_count": 107,
   "id": "6ea094f3",
   "metadata": {},
   "outputs": [
    {
     "data": {
      "text/plain": [
       "array([14500., 20000., 52500., ..., 21000., 31000., 40000.])"
      ]
     },
     "execution_count": 107,
     "metadata": {},
     "output_type": "execute_result"
    }
   ],
   "source": [
    "tree"
   ]
  },
  {
   "cell_type": "code",
   "execution_count": 111,
   "id": "d08d501e",
   "metadata": {},
   "outputs": [
    {
     "data": {
      "text/plain": [
       "191.10978243350874"
      ]
     },
     "execution_count": 111,
     "metadata": {},
     "output_type": "execute_result"
    }
   ],
   "source": [
    "b = mean_absolute_error(y_test,tree)\n",
    "tree_error = np.sqrt(b)\n",
    "tree_error"
   ]
  },
  {
   "cell_type": "markdown",
   "id": "7f9bf013",
   "metadata": {},
   "source": [
    "## Cross-Validation "
   ]
  },
  {
   "cell_type": "code",
   "execution_count": 112,
   "id": "743fc863",
   "metadata": {},
   "outputs": [],
   "source": [
    "X = house.drop(\"price\", axis=1)\n",
    "y = house[\"price\"].copy()\n",
    "\n",
    "X_prepared = full_pipeline.transform(X)"
   ]
  },
  {
   "cell_type": "code",
   "execution_count": 113,
   "id": "2ea96f7e",
   "metadata": {},
   "outputs": [],
   "source": [
    "from sklearn.model_selection import cross_val_score"
   ]
  },
  {
   "cell_type": "code",
   "execution_count": 126,
   "id": "f6f22c86",
   "metadata": {},
   "outputs": [],
   "source": [
    "obj = cross_val_score(LR_model , X_prepared , y , scoring=\"neg_mean_squared_error\" , cv = 7)\n",
    "obj_result = np.sqrt(-obj)"
   ]
  },
  {
   "cell_type": "code",
   "execution_count": 127,
   "id": "f95e90a7",
   "metadata": {},
   "outputs": [],
   "source": [
    "def hisobla(a):\n",
    "    print('score:',a)\n",
    "    print('mean:',a.mean())\n",
    "    print('std:',a.std())"
   ]
  },
  {
   "cell_type": "markdown",
   "id": "3a1228bc",
   "metadata": {},
   "source": []
  },
  {
   "cell_type": "code",
   "execution_count": 128,
   "id": "98ceb88b",
   "metadata": {},
   "outputs": [
    {
     "name": "stdout",
     "output_type": "stream",
     "text": [
      "score: [  64785.70024223  123859.11099164   43041.60660539   46855.55058292\n",
      "   50553.82839169 1580801.52869234  555689.81031445]\n",
      "mean: 352226.73368866503\n",
      "std: 529881.5114646747\n"
     ]
    }
   ],
   "source": [
    "hisobla(obj_result)"
   ]
  },
  {
   "cell_type": "code",
   "execution_count": 130,
   "id": "9438cf29",
   "metadata": {},
   "outputs": [],
   "source": [
    "obj1 = cross_val_score(DT_model , X_prepared , y , scoring=\"neg_mean_squared_error\" , cv = 7)\n",
    "obj1_result = np.sqrt(-obj1)"
   ]
  },
  {
   "cell_type": "code",
   "execution_count": 131,
   "id": "4c8dd411",
   "metadata": {},
   "outputs": [
    {
     "name": "stdout",
     "output_type": "stream",
     "text": [
      "score: [ 139107.52716683  232682.03112843  216026.70429727  408368.66552876\n",
      "  240266.01694582 1586561.46284208  552542.31003017]\n",
      "mean: 482222.1025627655\n",
      "std: 468944.9070485649\n"
     ]
    }
   ],
   "source": [
    "hisobla(obj1_result)"
   ]
  },
  {
   "cell_type": "code",
   "execution_count": 133,
   "id": "3fe06354",
   "metadata": {},
   "outputs": [],
   "source": [
    "import pickle"
   ]
  },
  {
   "cell_type": "code",
   "execution_count": 135,
   "id": "31aced34",
   "metadata": {},
   "outputs": [],
   "source": [
    "filename = 'DT_model.pk'\n",
    "with open(filename , 'wb') as file:\n",
    "    pickle.dump(DT_model,file)"
   ]
  },
  {
   "cell_type": "code",
   "execution_count": null,
   "id": "a6a1413e",
   "metadata": {},
   "outputs": [],
   "source": []
  }
 ],
 "metadata": {
  "kernelspec": {
   "display_name": "Python 3 (ipykernel)",
   "language": "python",
   "name": "python3"
  },
  "language_info": {
   "codemirror_mode": {
    "name": "ipython",
    "version": 3
   },
   "file_extension": ".py",
   "mimetype": "text/x-python",
   "name": "python",
   "nbconvert_exporter": "python",
   "pygments_lexer": "ipython3",
   "version": "3.9.7"
  }
 },
 "nbformat": 4,
 "nbformat_minor": 5
}
